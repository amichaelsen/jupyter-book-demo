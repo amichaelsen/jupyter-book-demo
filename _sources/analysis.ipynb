{
 "cells": [
  {
   "cell_type": "markdown",
   "id": "54d0e9b2-c0f1-4db0-8768-2402f009c11b",
   "metadata": {},
   "source": [
    "# Analysis "
   ]
  },
  {
   "cell_type": "code",
   "execution_count": 2,
   "id": "e1ab99ad-a4fb-4893-9b31-6746d81c70e1",
   "metadata": {},
   "outputs": [],
   "source": [
    "import numpy as np"
   ]
  },
  {
   "cell_type": "code",
   "execution_count": 3,
   "id": "e237bd60-f241-4d4e-a7e4-7fbe3ca0b4d1",
   "metadata": {},
   "outputs": [],
   "source": [
    "arr = np.random.rand(5)"
   ]
  },
  {
   "cell_type": "code",
   "execution_count": 4,
   "id": "844aa185-2bc7-4148-939a-e49402300f59",
   "metadata": {},
   "outputs": [
    {
     "data": {
      "text/plain": [
       "0.7061622382318774"
      ]
     },
     "execution_count": 4,
     "metadata": {},
     "output_type": "execute_result"
    }
   ],
   "source": [
    "arr.mean()"
   ]
  },
  {
   "cell_type": "code",
   "execution_count": 5,
   "id": "1116904a-2350-4489-a1b2-20c73e540ec8",
   "metadata": {},
   "outputs": [],
   "source": [
    "\n",
    "import time\n",
    "from tqdm.notebook import trange"
   ]
  },
  {
   "cell_type": "code",
   "execution_count": 6,
   "id": "10f40acc-e75d-41a3-944d-90f6ddc7b501",
   "metadata": {},
   "outputs": [
    {
     "data": {
      "application/vnd.jupyter.widget-view+json": {
       "model_id": "51e9f86ee6414bdf82d3c3717b9f2501",
       "version_major": 2,
       "version_minor": 0
      },
      "text/plain": [
       "  0%|          | 0/10 [00:00<?, ?it/s]"
      ]
     },
     "metadata": {},
     "output_type": "display_data"
    }
   ],
   "source": [
    "for i in trange(10):\n",
    "    x= i**2 + i \n",
    "    time.sleep(0.1)\n",
    "    "
   ]
  },
  {
   "cell_type": "code",
   "execution_count": 7,
   "id": "d0aeb194-bd6c-460d-85d6-38082200cc27",
   "metadata": {},
   "outputs": [
    {
     "data": {
      "text/plain": [
       "array([1, 2, 3, 2])"
      ]
     },
     "execution_count": 7,
     "metadata": {},
     "output_type": "execute_result"
    }
   ],
   "source": [
    "arr2 = np.array([1,2,3,2])\n",
    "arr2"
   ]
  },
  {
   "cell_type": "code",
   "execution_count": 10,
   "id": "14b168c3-81bf-4c0f-b2d7-8a8b8aa2c50f",
   "metadata": {},
   "outputs": [
    {
     "data": {
      "text/plain": [
       "0.7071067811865476"
      ]
     },
     "execution_count": 10,
     "metadata": {},
     "output_type": "execute_result"
    }
   ],
   "source": [
    "arr2.std()"
   ]
  },
  {
   "cell_type": "code",
   "execution_count": null,
   "id": "6a4b7241-7353-4b37-a1c4-818f2bc53632",
   "metadata": {},
   "outputs": [],
   "source": []
  }
 ],
 "metadata": {
  "kernelspec": {
   "display_name": "Python 3 (ipykernel)",
   "language": "python",
   "name": "python3"
  },
  "language_info": {
   "codemirror_mode": {
    "name": "ipython",
    "version": 3
   },
   "file_extension": ".py",
   "mimetype": "text/x-python",
   "name": "python",
   "nbconvert_exporter": "python",
   "pygments_lexer": "ipython3",
   "version": "3.9.9"
  }
 },
 "nbformat": 4,
 "nbformat_minor": 5
}
